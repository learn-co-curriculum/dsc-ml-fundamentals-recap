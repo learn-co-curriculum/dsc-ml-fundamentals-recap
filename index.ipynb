{
 "cells": [
  {
   "cell_type": "markdown",
   "metadata": {},
   "source": [
    "# Predictive Regression Modeling - Recap"
   ]
  },
  {
   "cell_type": "markdown",
   "metadata": {},
   "source": [
    "## Introduction\n",
    "\n",
    "In this section you used a familiar model, linear regression, to learn about machine learning fundamentals."
   ]
  },
  {
   "cell_type": "markdown",
   "metadata": {},
   "source": [
    "## Key Takeaways\n",
    "\n",
    "* ***Inference*** and ***prediction*** are two different use cases for statistical modeling\n",
    "  * Linear regression can be used for both kinds of modeling\n",
    "  * While inference is most interested in understanding relationships in the data, prediction is most interested in ***generalization***, i.e. making good predictions on unseen data\n",
    "* ***Model validation*** techniques allow you to measure how well your model generalizes\n",
    "  * The two most popular validation techniques are ***train-test split*** (which randomly shuffles the data into a training set and a test set) and ***cross-validation*** (which splits the data into folds and uses one fold at a time as the test set)\n",
    "* Predictive modeling involves balancing between ***bias*** and ***variance***\n",
    "  * Bias is associated with ***underfitting*** and less-complex models\n",
    "    * An example of a less-complex model would be linear regression\n",
    "    * A high-bias model will perform poorly on both the training and the test data\n",
    "  * Variance is associated with ***overfitting*** and more-complex models\n",
    "    * An example of a more-complex model would be polynomial regression\n",
    "    * A high-variance model will perform well on the training data and poorly on the test data\n",
    "* ***Regularization*** is a technique to reduce overfitting\n",
    "  * Two popular penalized coefficient regularization techniques are ***ridge*** regression and ***lasso*** regression\n",
    "  * Lasso regression penalizes coefficients to 0, which means that it can be used for ***feature selection*** in addition to other feature selection techniques such as recursive feature elimination"
   ]
  }
 ],
 "metadata": {
  "kernelspec": {
   "display_name": "Python (learn-env)",
   "language": "python",
   "name": "learn-env"
  },
  "language_info": {
   "codemirror_mode": {
    "name": "ipython",
    "version": 3
   },
   "file_extension": ".py",
   "mimetype": "text/x-python",
   "name": "python",
   "nbconvert_exporter": "python",
   "pygments_lexer": "ipython3",
   "version": "3.8.5"
  }
 },
 "nbformat": 4,
 "nbformat_minor": 4
}
